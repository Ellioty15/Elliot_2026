{
 "cells": [
  {
   "cell_type": "markdown",
   "id": "d4d43668",
   "metadata": {},
   "source": [
    "---\n",
    "title: 1.5 homework\n",
    "comments: true\n",
    "layout: post\n",
    "description: 1.5 homework\n",
    "---\n"
   ]
  },
  {
   "cell_type": "markdown",
   "id": "da04a894",
   "metadata": {},
   "source": [
    "# Homework Hacks\n",
    "## FRQ 1"
   ]
  },
  {
   "cell_type": "code",
   "execution_count": 3,
   "id": "e6a2ab7d",
   "metadata": {
    "vscode": {
     "languageId": "java"
    }
   },
   "outputs": [
    {
     "ename": "CompilationException",
     "evalue": "",
     "output_type": "error",
     "traceback": [
      "\u001b[1m\u001b[30m|   \u001b[1m\u001b[30m    double c = double\u001b[0m\u001b[1m\u001b[30m\u001b[41m\u001b[0m\u001b[1m\u001b[30m(a + b) / 2;\u001b[0m",
      "\u001b[1m\u001b[31m'.class' expected\u001b[0m",
      "",
      "\u001b[1m\u001b[30m|   \u001b[1m\u001b[30m    double c = double(\u001b[0m\u001b[1m\u001b[30m\u001b[41ma + b\u001b[0m\u001b[1m\u001b[30m) / 2;\u001b[0m",
      "\u001b[1m\u001b[31mnot a statement\u001b[0m",
      "",
      "\u001b[1m\u001b[30m|   \u001b[1m\u001b[30m    double c = double(a + b\u001b[0m\u001b[1m\u001b[30m\u001b[41m\u001b[0m\u001b[1m\u001b[30m) / 2;\u001b[0m",
      "\u001b[1m\u001b[31m';' expected\u001b[0m",
      ""
     ]
    }
   ],
   "source": [
    "//FRQ 1. Average with correct casting\n",
    "//Write a method avgInt that takes two int values and returns their average as a double, preserving the .5 if present.\n",
    "\n",
    "public static double avgInt(int a, int b) {\n",
    "    double c = double(a + b) / 2;\n",
    "    return c;\n",
    "}\n",
    "\n",
    "avgInt(1, 2);"
   ]
  },
  {
   "cell_type": "markdown",
   "id": "30982a36",
   "metadata": {},
   "source": [
    "## FRQ 2"
   ]
  },
  {
   "cell_type": "code",
   "execution_count": null,
   "id": "0c1f4b0b",
   "metadata": {
    "vscode": {
     "languageId": "java"
    }
   },
   "outputs": [],
   "source": [
    "//FRQ 2. Percentage\n",
    "//Given int correct and int total, compute the percentage as a double from 0.0 to 100.0 without losing fractional precision.\n",
    "\n",
    "public static double percent(int correct, int total) {\n",
    "    // your code\n",
    "}"
   ]
  }
 ],
 "metadata": {
  "kernelspec": {
   "display_name": "java (JJava/j!)",
   "language": "java",
   "name": "jbang-jjava"
  },
  "language_info": {
   "codemirror_mode": "java",
   "file_extension": ".jshell",
   "mimetype": "text/x-java-source",
   "name": "Java",
   "pygments_lexer": "java",
   "version": "17.0.16+8-Ubuntu-0ubuntu124.04.1"
  }
 },
 "nbformat": 4,
 "nbformat_minor": 5
}
